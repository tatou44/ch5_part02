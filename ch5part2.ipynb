{
 "cells": [
  {
   "cell_type": "markdown",
   "metadata": {},
   "source": [
    "<style>\n",
    "\th1 {\n",
    "\t--\tbackground-color: grey;\n",
    "\t\tcolor: yellow\n",
    "\t\tborder: 3px solid grey\n",
    "\n",
    "\t}\n",
    "\tp {\n",
    "\t\tbackground-color: grey;\n",
    "\t\tcolor: white\n",
    "\t\tborder: 3px solid grey\n",
    "\n",
    "\t}\n",
    "</style>\n",
    "<h1> Chapter 5 Functions</h1>"
   ]
  },
  {
   "cell_type": "markdown",
   "metadata": {},
   "source": [
    "***\n",
    "\n",
    "## <p style=\"background-color: grey; color: white \"> ◼️  Storing Functions in Modules </p>\n",
    "# <p style=\"font-family: Arial; font-size:1.4em;color:red;\"> 7. Storing Functions in Modules </p>\n"
   ]
  },
  {
   "cell_type": "markdown",
   "metadata": {},
   "source": [
    "<img src=\"./images/image71.png\" alt=\"Storing Function in modules\" width=\"50%\">\n"
   ]
  },
  {
   "cell_type": "markdown",
   "metadata": {},
   "source": [
    "***"
   ]
  },
  {
   "cell_type": "markdown",
   "metadata": {},
   "source": [
    "#### <p style=\"font-family: Arial; font-size:1.4em; background-color: yellow; color:black;\"> Problem #7.0 </p>\n",
    "\n",
    "#### Run all the cells and figure out the results of the code"
   ]
  },
  {
   "cell_type": "markdown",
   "metadata": {},
   "source": [
    "### Create a new file as mymodule.py\n",
    "#### And define your functions in the file\n",
    "```\n",
    "def func1():\n",
    "    print(\"This is func1\")\n",
    "```\n",
    "\n",
    "### Now, let's use the function in the module\n",
    "```\n",
    "from mymodule import func1\n",
    "func1()\n",
    "```"
   ]
  },
  {
   "cell_type": "code",
   "execution_count": 6,
   "metadata": {},
   "outputs": [
    {
     "name": "stdout",
     "output_type": "stream",
     "text": [
      "This is func1\n",
      "This is func2\n",
      "This is func3\n"
     ]
    }
   ],
   "source": [
    "from mymodule import func1, func2, func3\n",
    "func1()\n",
    "func2()\n",
    "func3()     "
   ]
  },
  {
   "cell_type": "markdown",
   "metadata": {},
   "source": [
    "***"
   ]
  },
  {
   "cell_type": "markdown",
   "metadata": {},
   "source": [
    "### <p style=\"font-family: Arial; font-size:1.4em; background-color: yellow; color:black;\"> Problem #7.1 </p>\n",
    "\n",
    "###Create a new file as primemodule.py that includes the following functions:\n",
    "- is_prime(n): returns True if n is a prime number, False otherwise\n",
    "- print_primes(n): prints all prime numbers less than n\n",
    "- get_primes(n): returns a list of all prime numbers less than n\n",
    "\n",
    "\n",
    "### Now, let's use the functions in the module, for example, in the main function \n",
    "```\n",
    "from primemodule import is_prime, print_primes, get_primes\n",
    "is_prime(10)\n",
    "print_primes(10)\n",
    "get_primes(10)\n",
    "```"
   ]
  },
  {
   "cell_type": "code",
   "execution_count": 17,
   "metadata": {},
   "outputs": [
    {
     "name": "stdout",
     "output_type": "stream",
     "text": [
      "False\n",
      "2\n",
      "3\n",
      "5\n",
      "7\n"
     ]
    },
    {
     "data": {
      "text/plain": [
       "[2, 3, 5, 7]"
      ]
     },
     "execution_count": 17,
     "metadata": {},
     "output_type": "execute_result"
    }
   ],
   "source": [
    "# completing the code to run the main function:\n",
    "from prime import is_prime, print_primes, get_primes   \n",
    "\n",
    "print(is_prime(10))\n",
    "print_primes(10)\n",
    "get_primes(10)    \n"
   ]
  },
  {
   "cell_type": "markdown",
   "metadata": {},
   "source": [
    "### <p style=\"font-family: Arial; font-size:1.4em; background-color: yellow; color:black;\"> Problem #7.2 </p>\n",
    "\n",
    "#### Make a function gen_lambda(number, criteria) that returns a lambda function that takes a list of numbers based on the parameter number and criteria. \n",
    "#### The criteria is one of the following:\n",
    "- \"even\": the lambda function returns the even numbers in the list\n",
    "- \"odd\": the lambda function returns the odd numbers in the list\n",
    "- \"positive\": the lambda function returns the positive numbers in the list\n",
    "- \"negative\": the lambda function returns the negative numbers in the list\n",
    "- \"zero\": the lambda function returns the number of zero numbers in the list\n",
    "\n",
    "### Now, let's use the functions in the module, for example, in the main function \n",
    "```\n",
    "even_lambda = gen_lambda(10, \"even\")\n",
    "even_lambda([1, 2, 3, 4, 5, 6, 7, 8, 9, 10])\n",
    "- it will return [2, 4, 6, 8, 10]\n",
    "\n",
    "positive_lambda = gen_lambda(10, \"positive\")\n",
    "positive_lambda([1, 2, 3, 4, 5, 6, 7, 8, 9, 10])\n",
    "- it will return [1, 2, 3, 4, 5, 6, 7, 8, 9, 10]\n",
    "\n",
    "negative_lambda = gen_lambda(10, \"negative\")\n",
    "negative_lambda([1, 2, 3, 4, 5, 6, 7, 8, 9, 10])\n",
    "- it will return []\n",
    "\n",
    "zero_lambda = gen_lambda(10, \"zero\")\n",
    "zero_lambda([1, 2, 3, 4, 0, 0, 7, 8, 9, 0])\n",
    "- it will return 3\n",
    "```"
   ]
  },
  {
   "cell_type": "markdown",
   "metadata": {},
   "source": [
    "### Complete the code to run the main function"
   ]
  },
  {
   "cell_type": "code",
   "execution_count": 30,
   "metadata": {},
   "outputs": [
    {
     "name": "stdout",
     "output_type": "stream",
     "text": [
      "3\n"
     ]
    },
    {
     "data": {
      "text/plain": [
       "'\\nreturned_lambda = gen_lambda(10, \"even\")\\nreturned_lambda([1, 2, 3, 4, 5, 6, 7, 8, 9, 10])\\n# it will return [2, 4, 6, 8, 10]\\n\\nreturned_lambda = gen_lambda(10, \"odd\")\\nreturned_lambda([1, 2, 3, 4, 5, 6, 7, 8, 9, 10])\\n# it will return [1, 3, 5, 7, 9]\\n\\npositive_lambda = gen_lambda(10, \"positive\")\\npositive_lambda([1, 2, 3, 4, 5, 6, 7, 8, 9, 10])\\n# it will return [1, 2, 3, 4, 5, 6, 7, 8, 9, 10]\\n\\nnegative_lambda = gen_lambda(10, \"negative\")\\nnegative_lambda([1, 2, -3, 4, -5, -6, 7, 8, 9, 10])\\n# it will return [-3, -5, -6]\\n\\nzero_lambda = gen_lambda(10, \"zero\")\\nzero_lambda([1, 2, 3, 4, 0, 0, 7, 8, 9, 0])\\n# it will return 3'"
      ]
     },
     "execution_count": 30,
     "metadata": {},
     "output_type": "execute_result"
    }
   ],
   "source": [
    "# complete the code to run the main function\n",
    "\n",
    "## complete the code for other criteria\n",
    "\n",
    "def gen_lambda(number, criteria):\n",
    "    if criteria == \"even\":\n",
    "        return lambda lst: [x for x in lst if x % 2 == 0]\n",
    "\n",
    "    if criteria == \"odd\":\n",
    "        return lambda lst: [x for x in lst if x % 2 != 0]    \n",
    "\n",
    "    if criteria == \"positive\": \n",
    "        return lambda lst: [x for x in lst if x > 0]\n",
    "\n",
    "    if criteria == \"negative\": \n",
    "        return lambda lst: [x for x in lst if x < 0]\n",
    "    \n",
    "    if criteria == \"zero\": \n",
    "        return lambda lst: len([x for x in lst if x == 0])\n",
    "\n",
    "\n",
    "def main():\n",
    "    lis = [1,2,3,4,0,0,5,6,7,8,9,0]\n",
    "    gen = gen_lambda(lis, 'zero')\n",
    "    result = gen(lis)\n",
    "    print(result)\n",
    "\n",
    "if __name__ == '__main__': \n",
    "    main()   \n",
    "\n",
    "     \n",
    "\n",
    "'''\n",
    "returned_lambda = gen_lambda(10, \"even\")\n",
    "returned_lambda([1, 2, 3, 4, 5, 6, 7, 8, 9, 10])\n",
    "# it will return [2, 4, 6, 8, 10]\n",
    "\n",
    "returned_lambda = gen_lambda(10, \"odd\")\n",
    "returned_lambda([1, 2, 3, 4, 5, 6, 7, 8, 9, 10])\n",
    "# it will return [1, 3, 5, 7, 9]\n",
    "\n",
    "positive_lambda = gen_lambda(10, \"positive\")\n",
    "positive_lambda([1, 2, 3, 4, 5, 6, 7, 8, 9, 10])\n",
    "# it will return [1, 2, 3, 4, 5, 6, 7, 8, 9, 10]\n",
    "\n",
    "negative_lambda = gen_lambda(10, \"negative\")\n",
    "negative_lambda([1, 2, -3, 4, -5, -6, 7, 8, 9, 10])\n",
    "# it will return [-3, -5, -6]\n",
    "\n",
    "zero_lambda = gen_lambda(10, \"zero\")\n",
    "zero_lambda([1, 2, 3, 4, 0, 0, 7, 8, 9, 0])\n",
    "# it will return 3'''"
   ]
  },
  {
   "cell_type": "markdown",
   "metadata": {},
   "source": [
    "***"
   ]
  },
  {
   "cell_type": "markdown",
   "metadata": {},
   "source": [
    "#### Don't forget to <font color='red'> **\"commit\"** </font> your work or <font color='red'> **\"save\"** </font> in Google Colab before moving to the next section."
   ]
  },
  {
   "cell_type": "markdown",
   "metadata": {},
   "source": [
    "***\n",
    "\n",
    "## <p style=\"background-color: grey; color: white \"> ◼️  Algorithms </p>\n",
    "# <p style=\"font-family: Arial; font-size:1.4em;color:red;\"> 8. Algorithms Development with Functions </p>\n"
   ]
  },
  {
   "cell_type": "markdown",
   "metadata": {},
   "source": [
    "### Complete the following problems with funtions\n",
    "#### In this section, you can use the additional functions if you need."
   ]
  },
  {
   "cell_type": "markdown",
   "metadata": {},
   "source": [
    "***\n",
    "#### <p style=\"font-family: Arial; font-size:1.4em; background-color: yellow; color:black;\"> Problem #8.1 </p>\n",
    "\n",
    "<style>\n",
    "\tp {\n",
    "\t\tbackground-color: black;\n",
    "\t\tcolor: white;\n",
    "\t\tborder: 1px solid grey;\n",
    "\t\tfont-size: 30px;\n",
    "\t}\n",
    "</style>\n",
    "<p> Make a function that receives two lists and figure out which list has the greater median value. Return the list with the greater median value. </p>\n",
    "- The definition of median is the middle value in an ordered list of numbers. If the list has an even number of elements, the median is the average of the two middle numbers.\n",
    "- Example n1 = [1, 3, 2, 4, 5, 0] n2 = [1,2,3] <br>\n",
    "- The median of n1 is 2.5 and the median of n2 is 2. So the function should return n1 and 2.5 together.\n"
   ]
  },
  {
   "cell_type": "markdown",
   "metadata": {},
   "source": [
    "```\n",
    "def compare_median(lst1, lst2):\n",
    "    # Write your code here\n",
    "    return lst1, median1\n",
    "```\n",
    "\n",
    "#### Test the function\n",
    "```\n",
    "compare_median([1, 3, 2, 4, 5, 0], [1,2,3])\n",
    "```\n"
   ]
  },
  {
   "cell_type": "code",
   "execution_count": 15,
   "metadata": {},
   "outputs": [
    {
     "name": "stdout",
     "output_type": "stream",
     "text": [
      "[0, 2, 5, 6, 7, 7, 8, 11, 34, 56]\n",
      "median of list (even): 7.0\n",
      "[0, 2, 5, 6, 7, 8]\n",
      "median of list (even): 5.5\n",
      "\n",
      "List 1 has greater median:\n"
     ]
    },
    {
     "data": {
      "text/plain": [
       "([2, 5, 6, 7, 8, 0, 11, 34, 56, 7], 7.0)"
      ]
     },
     "execution_count": 15,
     "metadata": {},
     "output_type": "execute_result"
    }
   ],
   "source": [
    "# completing the code:\n",
    "def L_greater_median(*args):\n",
    "\n",
    "   \n",
    "    medians = []\n",
    "    for arg in args:\n",
    "        \n",
    "\n",
    "        s_arg = sorted(arg)\n",
    "        print(s_arg)\n",
    "\n",
    "        n = len(arg)\n",
    "        if n % 2 == 0:\n",
    "\n",
    "            leftE = s_arg[:len(s_arg)//2]  # left elements from the midlle\n",
    "            rightE = s_arg[len(s_arg)//2:] # right elements from the midlle\n",
    "\n",
    "            median = (leftE[-1] + rightE[0])/2\n",
    "\n",
    "            print('median of list (even):', median) \n",
    "\n",
    "        else:\n",
    "            median = arg[len(arg)//2]\n",
    "            print('median list (odd):', median)\n",
    "\n",
    "        medians.append(median)  \n",
    "\n",
    "    print()\n",
    "    # compare medians:     \n",
    "        \n",
    "    l1, l2 = args                    # unpack the lists from the tuple 'args'\n",
    "    median_l1, median_l2 = medians   # unpack the medians from the list 'medians' \n",
    "    \n",
    "    \n",
    "    if median_l1 > median_l2:\n",
    "\n",
    "        print('List 1 has greater median:')\n",
    "                \n",
    "        return l1, median_l1\n",
    "\n",
    "    elif median_l2 > median_l1:\n",
    "        print('List 2 has greater median:')\n",
    "        return l2, median_l2\n",
    "\n",
    "    else:\n",
    "         print('Both list has same median.')   \n",
    "\n",
    "  \n",
    "# usage:    \n",
    "\n",
    "l1 = [2,5,6,7,8,0,11,34,56,7]     \n",
    "l2 = [2,5,6,7,8,0]    \n",
    "\n",
    "L_greater_median(l1, l2)    "
   ]
  },
  {
   "cell_type": "markdown",
   "metadata": {},
   "source": [
    "***\n",
    "#### <p style=\"font-family: Arial; font-size:1.4em; background-color: yellow; color:black;\"> Problem #8.2 </p>\n",
    "<style>\n",
    "\tp {\n",
    "\t\tbackground-color: black;\n",
    "\t\tcolor: white;\n",
    "\t\tborder: 1px solid grey;\n",
    "\t\tfont-size: 30px;\n",
    "\t}\n",
    "</style>\n",
    "<p> Make a function that receives a list of numbers and returns the second largest number in the list. </p>\n",
    "\n",
    "```\n",
    "Example:\n",
    " Input: [5, 2, 8, 1, 9, 3]\n",
    " Output: 8\n",
    " \n",
    " Note: If the list has less than two unique elements, the function should return None.\n",
    " ```\n",
    "\n",
    "\n",
    "\n",
    "```\n",
    "def second_largest(lst):\n",
    "    # Write your code here\n",
    "    return second_largest\n",
    "```\n",
    "\n",
    "##### Test the function\n",
    "```\n",
    "\n"
   ]
  },
  {
   "cell_type": "code",
   "execution_count": 31,
   "metadata": {},
   "outputs": [
    {
     "name": "stdout",
     "output_type": "stream",
     "text": [
      "8\n"
     ]
    }
   ],
   "source": [
    "# completing the code:\n",
    "# find the second largest element in the list that comes just after the first largest one. \n",
    "\n",
    "def second_largest(lst):\n",
    "\n",
    "    # removing duplicated element from the list than convert it to list again:\n",
    "    L_unique_elements = list(set(lst)) # sets are uniques (don't accept duplicates)\n",
    "\n",
    "    # if there's less than two unique elements in the list so can't find second largest:\n",
    "\n",
    "    if len(L_unique_elements) < 2:\n",
    "        #print('not enaught elements to compare.')\n",
    "        return None #(not enaught elements to compare.)\n",
    "               \n",
    "    else:\n",
    "         # we sort elements of the list in order ascendent:\n",
    "        L_unique_elements.sort()\n",
    "\n",
    "        # find the second largest number:\n",
    "        second_largest_number = L_unique_elements[-2] \n",
    "\n",
    "        return second_largest_number\n",
    "        \n",
    "       \n",
    "\n",
    "\n",
    "# example:\n",
    "l = [5, 2, 8, 1, 9, 3]\n",
    "result = second_largest(l)\n",
    "print(result)\n",
    "\n",
    "\n",
    "    \n",
    "\n"
   ]
  },
  {
   "cell_type": "markdown",
   "metadata": {},
   "source": [
    "***\n",
    "#### <p style=\"font-family: Arial; font-size:1.4em; background-color: yellow; color:black;\"> Problem #8.3 </p>\n",
    "<style>\n",
    "\tp {\n",
    "\t\tbackground-color: black;\n",
    "\t\tcolor: white;\n",
    "\t\tborder: 1px solid grey;\n",
    "\t\tfont-size: 30px;\n",
    "\t}\n",
    "</style>\n",
    "<p> Make a function that receives a list of tuples which contains two integers values and return a list of tuples where the second value of each tuple is greater than the first value. </p>\n",
    "\n",
    "```\n",
    "For example:\n",
    "numbers = [(4, 1), (3, 2), (5, 0), (2, 3), (1, 4), (6, -1), (0, 5), (7, 5), (8, 4), (9, 3), (10, 2), (11, 1), (12, 0), (13, -1), (14, -2), (15, -3)]\n",
    "Output = [(2,3), (1,4), (0,5)] \n",
    "\n",
    "##### Test the function\n",
    "numbers = [(4, 1), (3, 2), (5, 0), (2, 3), (1, 4)]\n",
    "filter_tuples(numbers)\n",
    "\n",
    "```\n",
    "\n"
   ]
  },
  {
   "cell_type": "code",
   "execution_count": 41,
   "metadata": {},
   "outputs": [
    {
     "name": "stdout",
     "output_type": "stream",
     "text": [
      "[(2, 3), (1, 4), (0, 5), (7, 100)]\n"
     ]
    }
   ],
   "source": [
    "# completing the code :\n",
    "def filter_tuples(numbers):\n",
    "\n",
    "    new_numbers = []\n",
    "\n",
    "    for TUPLE in numbers:\n",
    "\n",
    "        if TUPLE[0] < TUPLE[1]:\n",
    "            new_numbers.append(TUPLE)\n",
    "       \n",
    "                    \n",
    "    return new_numbers\n",
    "\n",
    "# EXAMPLE OF USAGE:\n",
    "l = [(4, 1), (3, 2), (5, 0), (2, 3), (1, 4), (6, -1), (0, 5),\n",
    " (7, 5), (8, 4), (9, 3), (10, 2), (11, 1), (12, 0),\n",
    "  (13, -1), (14, -2), (15, -3), (7, 100)] \n",
    "\n",
    "result = filter_tuples(l)\n",
    "print(result)           "
   ]
  },
  {
   "cell_type": "markdown",
   "metadata": {},
   "source": [
    "***\n",
    "#### <p style=\"font-family: Arial; font-size:1.4em; background-color: yellow; color:black;\"> Problem #8.4 </p>\n",
    "<style>\n",
    "\tp {\n",
    "\t\tbackground-color: black;\n",
    "\t\tcolor: white;\n",
    "\t\tborder: 1px solid grey;\n",
    "\t\tfont-size: 30px;\n",
    "\t}\n",
    "</style>\n",
    "<p> Make a function that receives a list of tuples which contains two integers values and sort the list based on the gap of two values in each tuple. The tuple with the smallest gap should be the first one in the sorted list. If the gap is the same, then sort based on the first value in the tuple. </p>\n",
    "\n",
    "\n",
    "```\n",
    "For example:\n",
    "numbers = [(4, 1), (3, 2), (5, 0), (2, 3), (1, 4)]\n",
    "Output = [(3, 2), (2,3 ), (1,4), (4,1), (5,0)]\n",
    "\n",
    "\n",
    "##### Test the function\n",
    "sort_tuples(numbers)\n",
    "- Expected output: [(3, 2), (2,3 ), (1,4), (4,1), (5,0)]\n",
    "```\n",
    "\n"
   ]
  },
  {
   "cell_type": "code",
   "execution_count": 8,
   "metadata": {},
   "outputs": [
    {
     "name": "stdout",
     "output_type": "stream",
     "text": [
      "[(-7, 1), (1, 3), (3, 1), (1, 4), (2, 3), (3, 2), (4, 1), (5, 0), (1, 7)]\n"
     ]
    }
   ],
   "source": [
    "# completing the code:\n",
    "def sort_tuples(numbers):\n",
    "    \n",
    "    n = len(numbers)\n",
    "    for i in range(n):                   #index i for elements inside tuple \n",
    "        for j in range(0, n - i - 1):    # index j for tuples\n",
    "            \n",
    "             \n",
    "            gap1 = numbers[j][0] + numbers[j][1]       # current tuple : j = 0 -> first tuple -> (E0, E1) \n",
    "            gap2 = numbers [j+1][0] + numbers[j+1][1]  # next tuple    : j = 1 -> second tuple -> (E0, E1). \n",
    "\n",
    "            # compare gaps of each couple in tuples:\n",
    "            if gap1 > gap2: # than swap.\n",
    "\n",
    "                numbers[j], numbers[j+1] = numbers[j+1], numbers[j]  # numbers[j] current tuple, numbers[j+1] next tuple.\n",
    "           \n",
    "            # case gaps are equal:\n",
    "            if gap1 == gap2:\n",
    "                # then sort based in the first element in each tuple of each couple:\n",
    "\n",
    "               if numbers[j][0] > numbers [j+1][0]: # check if first elements in current tuple is greater than first element in the next tuple.\n",
    "                numbers[j], numbers[j+1] = numbers[j+1], numbers[j]\n",
    "\n",
    "    return numbers            \n",
    "\n",
    "# usage:\n",
    "\n",
    "\n",
    "numbers = [(4, 1), (3, 2),(3, 1), (1, 3), (-7, 1),(1, 7), (5, 0), (2, 3), (1, 4)]\n",
    "result = sort_tuples(numbers)\n",
    "print(result)\n",
    "\n",
    "# explain result, outputs:\n",
    "# In this example the list contains 9 tuple, 3 couples of tuples has same gap:[(4, 1),(1, 4)] , [(3, 1), (1, 3)] and [(2, 3),(3, 2)]. \n",
    "# those 3 couples will be sorted based in the first element of each tuple in the couple.\n",
    "# The rest tuples sorted based in a smallest gap ineach couple. \n",
    "\n"
   ]
  },
  {
   "cell_type": "code",
   "execution_count": null,
   "metadata": {},
   "outputs": [],
   "source": [
    "# complete the code "
   ]
  },
  {
   "cell_type": "markdown",
   "metadata": {},
   "source": [
    "***\n",
    "#### <p style=\"font-family: Arial; font-size:1.4em; background-color: yellow; color:black;\"> Problem #8.5 </p>\n",
    "<style>\n",
    "\tp {\n",
    "\t\tcolor: white;\n",
    "\t\tborder: 1px solid grey;\n",
    "\t\tfont-size: 28;\n",
    "\t}\n",
    "</style>\n",
    "<p> Make a function that receives a string value and returns the encoded string by shifting each letter by \"seed\" value. </p>\n",
    "\n",
    "- If the letter is not a letter, then keep it as it is. \n",
    "- If the lettter + seed is greater than 'z', then wrap around to the beginning of the alphabet. \n",
    "\n",
    "```\n",
    "- For example, if the seed is 2, then 'a' will be 'c', 'b' will be 'd', ..., 'z' will be 'b'. \n",
    "\n",
    "##### Test the function\n",
    "```\n",
    "encode_string(\"hello\", 2) <br>\n",
    "The expected output is \"jgnnq\" \n",
    "```\n",
    "\n"
   ]
  },
  {
   "cell_type": "code",
   "execution_count": 52,
   "metadata": {},
   "outputs": [
    {
     "name": "stdout",
     "output_type": "stream",
     "text": [
      "Jgnnq!, vjku c 1 vguv c C b B\n"
     ]
    }
   ],
   "source": [
    "# completing the code :\n",
    "def encode_string(str, seed):\n",
    "\n",
    "    encoded_str = ''  # to concatinate encoded characteres to make the encoded string.\n",
    "\n",
    "    # let's iterate throught each charatere in given string to make the process:\n",
    "    for ch in str:\n",
    "        # check if the charactere is alphabet:\n",
    "        if ch.isalpha():\n",
    "            # shifting the charactere:\n",
    "\n",
    "            shift = seed % 26   # to ensure the charactere will shift around the \"z\" , last alphabet lettre.   \n",
    "                                # 26 is the total number of alphabet letter.so shift position from % of the total.  \n",
    "            if ch.islower():\n",
    "\n",
    "                encoded_ch = chr((ord(ch) - ord('a') + shift) % 26 + ord('a'))  # ord('a') is the decoded number of letter a in ASCII.  \n",
    "\n",
    "            else:  # charactere is upper.\n",
    "                encoded_ch = chr((ord(ch) - ord('A') + shift) % 26 + ord('A'))  # ord() convert characteres to decimal numbers.\n",
    "\n",
    "            # concatinate the encoded charachter.\n",
    "            encoded_str += encoded_ch     \n",
    "                \n",
    "                                 \n",
    "        else: \n",
    "            # the charactere is not alphabet, so do nothing to the charactere:\n",
    "            encoded_str += ch    # the same original charactere to concatinated.\n",
    "\n",
    "    return encoded_str   # return the final string encoded.\n",
    "\n",
    "\n",
    "# example:\n",
    "string = 'Hello!, this a 1 test a A z Z'\n",
    "\n",
    "# seed = 2. \n",
    "result = encode_string(string, 2)\n",
    "print(result)\n",
    "\n",
    "\n",
    "\n"
   ]
  },
  {
   "cell_type": "markdown",
   "metadata": {},
   "source": [
    "***"
   ]
  },
  {
   "cell_type": "markdown",
   "metadata": {},
   "source": [
    "***\n",
    "#### <p style=\"font-family: Arial; font-size:1.4em; background-color: yellow; color:black;\"> Problem #8.6 </p>\n",
    "<style>\n",
    " \tp {\n",
    " \t\tcolor: white;\n",
    " \t\tborder: 1px solid grey;\n",
    " \t\tfont-size: 28;\n",
    " \t}\n",
    "</style>\n",
    "<p> Make a function that takes a list of lists as input and performs the following operations: </p>\n",
    " \n",
    "1. Calculate the sum of each inner list\n",
    "2. Find the maximum sum among all inner lists\n",
    "3. Return a tuple containing:\n",
    "   a) The list of sums\n",
    "   b) The index of the inner list with the maximum sum\n",
    "   c) The maximum sum itself\n",
    " \n",
    "For example:\n",
    "```python\n",
    "input_list = [[1, 2, 3], [4, 5], [6, 7, 8, 9]]\n",
    "result = find_max_sum(input_list)\n",
    "print(result)\n",
    "Expected output: ([6, 9, 30], 2, 30)\n",
    "```\n",
    "\n",
    "##### Test the function\n",
    "```\n",
    "find_max_sum([[1, 2, 3], [4, 5], [6, 7, 8, 9]])\n",
    "The expected output is ([6, 9, 30], 2, 30)\n",
    "```\n",
    "\n"
   ]
  },
  {
   "cell_type": "code",
   "execution_count": 99,
   "metadata": {},
   "outputs": [
    {
     "name": "stdout",
     "output_type": "stream",
     "text": [
      "([3, 7, 8, 20], 3, 20)\n"
     ]
    }
   ],
   "source": [
    "# completing the code:\n",
    "\n",
    "def find_max_sum(lst_of_lst):\n",
    "\n",
    "    l = [] # empty list for the inner lists sums. \n",
    "\n",
    "\n",
    "    for lst in lst_of_lst:  # iterate over the inner lists inside the 'lst_of_lst'.\n",
    "\n",
    "        # summing the numbers inside the inner list:\n",
    "        sum = 0\n",
    "\n",
    "        for num in lst: # iterate over numbers of each inner list,\n",
    "            # then sum numbers of each inner list.\n",
    "\n",
    "            sum += num # update the total.\n",
    "\n",
    "\n",
    "        l.append(sum)  # append every sum of every inner list in a list \"l\".\n",
    "    \n",
    "\n",
    "    # find the maximum sum:\n",
    "\n",
    "    # check if the list of sums is empty:\n",
    "    if len(l) == 0:\n",
    "        print('list empty, no sums.')\n",
    "        return None\n",
    "\n",
    "\n",
    "    max_sum = l[0]  # first element in 'l'\n",
    "    max_indx = 0\n",
    "\n",
    "    n = len(l)\n",
    "\n",
    "    for i in range(1, n): # from 1 because we set max_sum intially to l[0]. (i=0 excluded)\n",
    "        if l[i] > max_sum: # comparing:\n",
    "\n",
    "            # update max_sum, max_indx:\n",
    "            max_sum = l[i]\n",
    "            max_indx = i\n",
    "\n",
    "    return l, max_indx, max_sum     # return list of sums, index of maximum sum and the maximum in sums list 'l'.    \n",
    "     \n",
    "                \n",
    "\n",
    "\n",
    "# example of use:\n",
    "result = find_max_sum([[1, 2], [3, 4], [6, 2], [10, 10]])\n",
    "print(result)\n",
    "\n"
   ]
  },
  {
   "cell_type": "markdown",
   "metadata": {},
   "source": [
    "***"
   ]
  },
  {
   "cell_type": "markdown",
   "metadata": {},
   "source": [
    "<p style=\"font-family: Arial; font-size:1.4em; background-color: yellow; color:black;\"> Problem #8.7 </p>\n",
    "<style>\n",
    " \tp {\n",
    " \t\tcolor: white;\n",
    " \t\tborder: 1px solid grey;\n",
    " \t\tfont-size: 28;\n",
    " \t}\n",
    "</style>\n",
    "<p> Make a function that takes a list that contains a integer value and the size of the new sub list. The function returns a list of sub lists with the size of the new sub list. </p>\n",
    "\n",
    "- For example, if the input list is [1, 2, 3, 4, 5, 6, 7, 8, 9, 10] and the size of the new sub list is 3, the function returns [[1, 2, 3], [4, 5, 6], [7, 8, 9], [10]].\n",
    "- Another example, if the input list is [1, 2, 3, 4, 5, 6, 7, 8, 9, 10, 11] and the size of the new sub list is 6, the function returns [[1, 2, 3, 4, 5, 6], [7, 8, 9, 10, 11]].\n",
    "\n",
    "\n",
    "\n",
    "### Function call example, \n",
    "```\n",
    "sub_lists([1, 2, 3, 4, 5, 6, 7, 8, 9, 10], 3)\n",
    "```\n",
    "### Expected output: \n",
    "```\n",
    "[[1, 2, 3], [4, 5, 6], [7, 8, 9], [10]]\n",
    "```\n",
    "***\n",
    "\n",
    "\n"
   ]
  },
  {
   "cell_type": "code",
   "execution_count": 104,
   "metadata": {},
   "outputs": [
    {
     "name": "stdout",
     "output_type": "stream",
     "text": [
      "[[0, 1, 2], [3, 4, 5], [6, 7, 8], [9, 10, 11], [12]]\n"
     ]
    }
   ],
   "source": [
    "# completing the code :\n",
    "\n",
    "def sub_lists(lst, step):\n",
    "    sub_lists = []\n",
    "\n",
    "    n = len(lst)\n",
    "\n",
    "    for i in range(0, n, step):\n",
    "\n",
    "        sub_lists.append(lst[i:i+step])\n",
    "\n",
    "    return sub_lists\n",
    "\n",
    "step = 3\n",
    "l = [0,1,2,3,4,5,6,7,8,9,10,11,12]\n",
    "\n",
    "result = sub_lists(l, step)\n",
    "print(result)"
   ]
  },
  {
   "cell_type": "markdown",
   "metadata": {},
   "source": [
    "***"
   ]
  },
  {
   "cell_type": "markdown",
   "metadata": {},
   "source": [
    "<p style=\"font-family: Arial; font-size:1.4em; background-color: yellow; color:black;\"> Problem #8.8 </p>\n",
    "<style>\n",
    " \tp {\n",
    " \t\tcolor: white;\n",
    " \t\tborder: 1px solid grey;\n",
    " \t\tfont-size: 28;\n",
    " \t}\n",
    "</style>\n",
    "<p> Make a function that takes a list of lists as input and performs the following operations: </p>\n",
    "\n",
    "- get the average of the length of the lists.\n",
    "- re-arrange the list based on the average\n",
    "- For example, if the input list is [[1, 2, 3], [4, 5], [6, 7, 8, 9]], the average of the length of the lists is 3.\n",
    "- The list will be rearranged to [[1, 2, 3], [4, 5, 6], [7, 8, 9]]\n",
    "- If the total number of elements is not divisible by the average, the last list will be shorter than the others. \n",
    "- For example, if the input list is [[1, 2, 3], [4, 5], [6, 7, 8, 9, 10]], the average of the length of the lists is 3.\n",
    "- The list will be rearranged to [[1, 2, 3], [4, 5, 6], [7, 8, 9], [10]].\n",
    "\n",
    "\n"
   ]
  },
  {
   "cell_type": "code",
   "execution_count": 123,
   "metadata": {},
   "outputs": [
    {
     "name": "stdout",
     "output_type": "stream",
     "text": [
      "[[1, 2, 3, 4], [5, 6, 7, 8], [9, 10, 11, 12], [13, 14]]\n"
     ]
    }
   ],
   "source": [
    "# completing the code: \n",
    "def re_arng_lists(lst):\n",
    "    \n",
    "    total = sum(len(e) for e in lst)\n",
    "    \n",
    "    avg = total // len(lst)\n",
    "    \n",
    "    # rearrange the list based in the average 'avg':\n",
    "\n",
    "    # [[1, 2, 3], [4, 5], [6, 7, 8, 9]]\n",
    "\n",
    "    temp = []\n",
    "    result = []\n",
    "    \n",
    "    for sub_list in lst:\n",
    "        for num in sub_list:\n",
    "\n",
    "            temp.append(num)  # extracting numbers from the original list into 'temp' list.\n",
    "\n",
    "            if len(temp) == avg: # when lenght of temp reach avg, it will append it to 'result',bellow.\n",
    "\n",
    "                result.append(temp)   # making sub lists of 'avg' elements.\n",
    "\n",
    "                temp = []             # renew 'temp' to receive new numbers to the next iteration.\n",
    "                            \n",
    "    \n",
    "    # adding the left over numbers, if any:\n",
    "\n",
    "    # chech if there are more numbers left inside 'temp' after done with iterations:\n",
    "    if len(temp) != 0:\n",
    "        result.append(temp)\n",
    "                 \n",
    "    print(result)            \n",
    "\n",
    "\n",
    "# example:\n",
    "l = [[1, 2, 3, 4], [5, 6, 7], [8, 9, 10, 11, 12, 13, 14]]\n",
    "          \n",
    "re_arng_lists(l)\n",
    "    \n",
    "\n",
    "\n"
   ]
  },
  {
   "cell_type": "markdown",
   "metadata": {},
   "source": [
    "***"
   ]
  }
 ],
 "metadata": {
  "kernelspec": {
   "display_name": "Python 3.8.5 ('base')",
   "language": "python",
   "name": "python3"
  },
  "language_info": {
   "codemirror_mode": {
    "name": "ipython",
    "version": 3
   },
   "file_extension": ".py",
   "mimetype": "text/x-python",
   "name": "python",
   "nbconvert_exporter": "python",
   "pygments_lexer": "ipython3",
   "version": "3.8.5"
  },
  "orig_nbformat": 4,
  "vscode": {
   "interpreter": {
    "hash": "ad2bdc8ecc057115af97d19610ffacc2b4e99fae6737bb82f5d7fb13d2f2c186"
   }
  }
 },
 "nbformat": 4,
 "nbformat_minor": 2
}
